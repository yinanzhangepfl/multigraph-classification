{
 "cells": [
  {
   "cell_type": "code",
   "execution_count": 6,
   "metadata": {},
   "outputs": [],
   "source": [
    "import random\n",
    "import collections\n",
    "import math\n",
    "import os\n",
    "\n",
    "from scipy.sparse import coo_matrix\n",
    "import pandas as pd\n",
    "import matplotlib.pyplot as plt\n",
    "\n",
    "\n",
    "import networkx as nx\n",
    "from sklearn.neighbors import NearestNeighbors\n",
    "\n",
    "import pickle\n",
    "import ipywidgets as widgets\n",
    "from ipywidgets import interact, fixed"
   ]
  },
  {
   "cell_type": "code",
   "execution_count": 7,
   "metadata": {},
   "outputs": [],
   "source": [
    "def create_df(tumorList, stromaList, TILList1, TILList2, NK, MP, \n",
    "              numtumor=500, numstroma=500, numTIL1=0, numTIL2=0, numNK=0, numMP=0):\n",
    "    df = pd.DataFrame(columns=['x', 'y', 'label'])\n",
    "    pos= [] \n",
    "    x = []\n",
    "    y = []\n",
    "    label = []\n",
    "    tumor = random.sample(tumorList, numtumor)\n",
    "    stroma = random.sample(stromaList, numstroma)\n",
    "    TIL1 = random.sample(set(TILList1) - set(tumor) - set(stroma), numTIL1)\n",
    "    TIL2 = random.sample(set(TILList2) - set(tumor) - set(stroma) - set(TIL1), numTIL2)\n",
    "    NK = random.sample(set(NK) - set(tumor) - set(stroma)- set(TIL1) - set(TIL2), numNK)\n",
    "    MP = random.sample(set(MP) - set(tumor) - set(stroma)- set(TIL1) - set(TIL2)-set(NK), numMP)\n",
    "    \n",
    "    loop1 = []\n",
    "    loop2 = []\n",
    "    for i,j in zip([tumor, stroma, TIL1, TIL2, NK, MP], ['Tumor', 'Stroma', 'TIL1', 'TIL2', 'NK', 'MP']):\n",
    "        if i:\n",
    "            loop1.append(i)\n",
    "            loop2.append(j)\n",
    "\n",
    "    for l, labelName in zip(loop1, loop2):\n",
    "        pos.extend(l)\n",
    "        for idx, content in enumerate(zip(*l)):\n",
    "            [x, y][idx].extend(content)\n",
    "        label.extend([labelName for i in range(len(content))])\n",
    "    df['x'] = x\n",
    "    df['y'] = y\n",
    "    df['label'] = label\n",
    "    return df, pos\n",
    "\n",
    "\n",
    "def create_graph(df, pos):\n",
    "    dfXY = df[['x', 'y']].copy()\n",
    "    N = len(dfXY)\n",
    "    nn = NearestNeighbors(radius=60)\n",
    "    nn.fit(dfXY)\n",
    "    dists, ids = nn.radius_neighbors(dfXY)\n",
    "    dists_ = [j for i in dists for j in i]\n",
    "    ids_ = [j for i in ids for j in i]\n",
    "    # generate row indices\n",
    "    rows = [i for i, j in enumerate(ids) for k in j]\n",
    "    # number of edges\n",
    "    M = len(rows)\n",
    "    w = np.ones(M)\n",
    "    # complete matrix according to positions\n",
    "    _W = coo_matrix((w, (rows, ids_)), shape=(N, N))\n",
    "    coo_matrix.setdiag(_W, 0)\n",
    "    _W = 1/2*(_W + _W.T)\n",
    "    # create networkx graph\n",
    "    G = nx.from_scipy_sparse_matrix(_W)\n",
    "    for i in range(len(G.nodes)):\n",
    "        G.nodes[i]['pos'] = pos[i]\n",
    "        G.nodes[i]['cell_types'] = df['label'][i]\n",
    "    return G\n",
    "    \n",
    "    \n",
    "def add_data(id_, range_, nums=[1500, 1500, 0, 0, 0, 0], count=1):\n",
    "    TILList1 = [(x+1,y+1) for x in range(range_[0][0], range_[0][1]) for y in range(range_[0][2], range_[0][3])]\n",
    "    TILList2 = [(x+1,y+1) for x in range(range_[1][0], range_[1][1]) for y in range(range_[1][2], range_[1][3])]\n",
    "    NK = [(x+1,y+1) for x in range(range_[2][0], range_[2][1]) for y in range(range_[2][2], range_[2][3])]\n",
    "    MP = [(x+1,y+1) for x in range(range_[3][0], range_[3][1]) for y in range(range_[3][2], range_[3][3])]\n",
    "    for j in range(count):\n",
    "        df, pos = create_df(tumorList, stromaList, TILList1, TILList2, NK, MP, \\\n",
    "                            numtumor=nums[0], numstroma=nums[1], numTIL1=nums[2], numTIL2=nums[3], \\\n",
    "                            numNK=nums[4], numMP=nums[5])\n",
    "        G = create_graph(df, pos)\n",
    "        patientDict[id_].append(G)\n",
    "        "
   ]
  },
  {
   "cell_type": "markdown",
   "metadata": {},
   "source": [
    "# Data creation"
   ]
  },
  {
   "cell_type": "code",
   "execution_count": 3,
   "metadata": {},
   "outputs": [],
   "source": [
    "# set a fixed random seed for training (123) / val (124) / test (125)\n",
    "random.seed(123)\n",
    "\n",
    "patientKeys = [('{:0>4d}'.format(i+1)) for i in range(10)]\n",
    "patientDict = collections.defaultdict(list)\n",
    "tumorList = [(x+1,y+1) for x in range(0, 500) for y in range(0, 1000)]\n",
    "stromaList = [(x+1,y+1) for x in range(500, 1000) for y in range(0, 1000)]\n",
    "\n",
    "# add similar graphs\n",
    "for i in patientKeys:\n",
    "    add_data(i, [[0, 0, 0, 0], [0, 0, 0, 0], [0, 0, 0, 0] , [0, 0, 0, 0]], \\\n",
    "             nums=[500, 500, 0, 0, 0, 0], count=3)\n",
    "    \n",
    "patch1 = [[425, 575, 0, 1000], [425, 575, 0, 1000], [0, 0, 0, 0], [0, 0, 0, 0]]\n",
    "patch2 = [[0, 500, 0, 1000], [0, 0, 0, 0], [0, 0, 0, 0], [0, 0, 0, 0]]\n",
    "patch3 = [[0, 500, 0, 1000], [0, 500, 0, 1000], [0, 0, 0, 0], [0, 0, 0, 0]]\n",
    "patch4 = [[0, 500, 0, 1000], [0, 500, 0, 1000], [0, 0, 0, 0], [0, 1000, 0, 1000]]\n",
    "patch5 = [[0, 500, 0, 1000], [0, 500, 0, 1000], [0, 1000, 0, 1000], [0, 1000, 0, 1000]]\n",
    "\n",
    "num1, num2, num3, num4, num5 = [400, 400, 100, 100, 0, 0], [300, 300, 400, 0, 0, 0], \\\n",
    "                                   [300, 300, 200, 200, 0, 0], [300, 300, 150, 150, 0, 100], \\\n",
    "                               [300, 300, 100, 100, 100, 100]\n",
    "\n",
    "for fold in range(1):\n",
    "    # add discriminative graphs\n",
    "    add_data(patientKeys[10*fold], patch1, num1)\n",
    "    add_data(patientKeys[10*fold], patch2, num2)\n",
    "\n",
    "    add_data(patientKeys[10*fold+1], patch1, num1)\n",
    "    add_data(patientKeys[10*fold+1], patch3, num3)\n",
    "\n",
    "    add_data(patientKeys[10*fold+2], patch1, num1)\n",
    "    add_data(patientKeys[10*fold+2], patch4, num4)\n",
    "\n",
    "    add_data(patientKeys[10*fold+3], patch1, num1)\n",
    "    add_data(patientKeys[10*fold+3], patch5, num5)\n",
    "\n",
    "    add_data(patientKeys[10*fold+4], patch2, num2)\n",
    "    add_data(patientKeys[10*fold+4], patch3, num3)\n",
    "\n",
    "    add_data(patientKeys[10*fold+5], patch2, num2)\n",
    "    add_data(patientKeys[10*fold+5], patch4, num4)\n",
    "\n",
    "    add_data(patientKeys[10*fold+6], patch2, num2)\n",
    "    add_data(patientKeys[10*fold+6], patch5, num5)\n",
    "\n",
    "    add_data(patientKeys[10*fold+7], patch3, num3)\n",
    "    add_data(patientKeys[10*fold+7], patch4, num4)\n",
    "\n",
    "    add_data(patientKeys[10*fold+8], patch3, num3)\n",
    "    add_data(patientKeys[10*fold+8], patch5, num5)\n",
    "\n",
    "    add_data(patientKeys[10*fold+9], patch4, num4)\n",
    "    add_data(patientKeys[10*fold+9], patch5, num5)"
   ]
  },
  {
   "cell_type": "markdown",
   "metadata": {},
   "source": [
    "# Visualization"
   ]
  },
  {
   "cell_type": "code",
   "execution_count": 12,
   "metadata": {
    "scrolled": true
   },
   "outputs": [],
   "source": [
    "# import pickle\n",
    "# with open(r'./data/patient_gumbel_test.pickle', 'rb') as handle:\n",
    "#     patientDict = pickle.load(handle)"
   ]
  },
  {
   "cell_type": "code",
   "execution_count": 13,
   "metadata": {},
   "outputs": [
    {
     "data": {
      "application/vnd.jupyter.widget-view+json": {
       "model_id": "66f22af06e42436887385c74ceed8c9c",
       "version_major": 2,
       "version_minor": 0
      },
      "text/plain": [
       "interactive(children=(Dropdown(description='Patient ID: ', options=('0001', '0002', '0003', '0004', '0005', '0…"
      ]
     },
     "metadata": {},
     "output_type": "display_data"
    }
   ],
   "source": [
    "# Create widgets\n",
    "id_ = \\\n",
    "widgets.Dropdown(\n",
    "    options = patientDict.keys(),\n",
    "    description='Patient ID: '\n",
    ")\n",
    "graphs  = widgets.IntSlider(\n",
    "              min=0,\n",
    "              max=len(patientDict[id_.value])-1,\n",
    "              step=1,\n",
    "              description='Graph Index: ',\n",
    "              orientation='horizontal',\n",
    "              continuous_update = False\n",
    ")\n",
    "\n",
    "# Update graph options based on patient id\n",
    "def update_graphs(*args):\n",
    "    graphs.max = len(patientDict[id_.value])-1\n",
    "# Tie graph options to patient id\n",
    "id_.observe(update_graphs, 'value')\n",
    "\n",
    "nodeColorsDict = {'Tumor': 'c', 'Stroma': 'y', 'TIL1': 'r', 'TIL2': 'b', 'NK': 'g', 'MP': 'orange'}\n",
    "def graph_visualization(id_, graphs):\n",
    "    plt.figure(figsize = (8, 8))\n",
    "    G = patientDict[id_][graphs]\n",
    "    posDict = nx.get_node_attributes(G, 'pos')\n",
    "    for label in nodeColorsDict:\n",
    "        plt.plot([0], [0], color=nodeColorsDict[label], label=label)\n",
    "    nodeColorList = [nodeColorsDict[i] for i in list(nx.get_node_attributes(G, 'cell_types').values())]\n",
    "    nx.draw_networkx(G, pos=posDict, with_labels=False, node_size=10, node_color=nodeColorList)\n",
    "    plt.legend(loc='center left', bbox_to_anchor=(1, 0.5))\n",
    "    plt.show()\n",
    "\n",
    "_ = interact(graph_visualization, id_=id_, graphs=graphs)\n",
    "    "
   ]
  },
  {
   "cell_type": "markdown",
   "metadata": {},
   "source": [
    "# Save data"
   ]
  },
  {
   "cell_type": "code",
   "execution_count": 5,
   "metadata": {
    "scrolled": true
   },
   "outputs": [],
   "source": [
    "# choose one out of three\n",
    "# if not os.path.exists(r'./data/patient_gumbel_train.pickle'):\n",
    "#     with open(r'./data/patient_gumbel_train.pickle', 'wb') as handle:\n",
    "#         pickle.dump(patientDict, handle, protocol=pickle.HIGHEST_PROTOCOL)\n",
    "        \n",
    "# if not os.path.exists(r'./data/patient_gumbel_val.pickle'):\n",
    "#     with open(r'./data/patient_gumbel_val.pickle', 'wb') as handle:\n",
    "#         pickle.dump(patientDict, handle, protocol=pickle.HIGHEST_PROTOCOL)\n",
    "        \n",
    "# if not os.path.exists(r'./data/patient_gumbel_test.pickle'):\n",
    "#     with open(r'./data/patient_gumbel_test.pickle', 'wb') as handle:\n",
    "#         pickle.dump(patientDict, handle, protocol=pickle.HIGHEST_PROTOCOL)"
   ]
  }
 ],
 "metadata": {
  "kernelspec": {
   "display_name": "Python (geodeep)",
   "language": "python",
   "name": "geodeep"
  },
  "language_info": {
   "codemirror_mode": {
    "name": "ipython",
    "version": 3
   },
   "file_extension": ".py",
   "mimetype": "text/x-python",
   "name": "python",
   "nbconvert_exporter": "python",
   "pygments_lexer": "ipython3",
   "version": "3.6.10"
  },
  "varInspector": {
   "cols": {
    "lenName": 16,
    "lenType": 16,
    "lenVar": 40
   },
   "kernels_config": {
    "python": {
     "delete_cmd_postfix": "",
     "delete_cmd_prefix": "del ",
     "library": "var_list.py",
     "varRefreshCmd": "print(var_dic_list())"
    },
    "r": {
     "delete_cmd_postfix": ") ",
     "delete_cmd_prefix": "rm(",
     "library": "var_list.r",
     "varRefreshCmd": "cat(var_dic_list()) "
    }
   },
   "types_to_exclude": [
    "module",
    "function",
    "builtin_function_or_method",
    "instance",
    "_Feature"
   ],
   "window_display": false
  }
 },
 "nbformat": 4,
 "nbformat_minor": 2
}
